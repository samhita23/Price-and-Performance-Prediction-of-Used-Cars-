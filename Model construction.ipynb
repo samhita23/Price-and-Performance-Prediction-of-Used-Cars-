{
 "cells": [
  {
   "cell_type": "code",
   "execution_count": 1,
   "metadata": {},
   "outputs": [],
   "source": [
    "import pandas as pd\n",
    "import numpy as np\n",
    "import seaborn as sns\n",
    "import matplotlib.pyplot as plt\n",
    "from collections import Counter\n",
    "import re\n",
    "from sklearn.impute import KNNImputer\n",
    "pd.set_option('display.float_format', '{:.2f}'.format)\n",
    "from sklearn.model_selection import train_test_split,GridSearchCV\n",
    "from sklearn.metrics import mean_squared_error,r2_score\n",
    "from sklearn.model_selection import RandomizedSearchCV\n",
    "from sklearn.tree import DecisionTreeRegressor\n",
    "from sklearn.ensemble import RandomForestRegressor\n"
   ]
  },
  {
   "cell_type": "code",
   "execution_count": 2,
   "metadata": {},
   "outputs": [],
   "source": [
    "data=pd.read_csv(r'C:\\Users\\chama\\Downloads\\dat\\Cars24_data.csv')"
   ]
  },
  {
   "cell_type": "code",
   "execution_count": 3,
   "metadata": {},
   "outputs": [],
   "source": [
    "df = data"
   ]
  },
  {
   "cell_type": "code",
   "execution_count": 4,
   "metadata": {},
   "outputs": [
    {
     "data": {
      "text/html": [
       "<div>\n",
       "<style scoped>\n",
       "    .dataframe tbody tr th:only-of-type {\n",
       "        vertical-align: middle;\n",
       "    }\n",
       "\n",
       "    .dataframe tbody tr th {\n",
       "        vertical-align: top;\n",
       "    }\n",
       "\n",
       "    .dataframe thead th {\n",
       "        text-align: right;\n",
       "    }\n",
       "</style>\n",
       "<table border=\"1\" class=\"dataframe\">\n",
       "  <thead>\n",
       "    <tr style=\"text-align: right;\">\n",
       "      <th></th>\n",
       "      <th>Unnamed: 0</th>\n",
       "      <th>Name</th>\n",
       "      <th>Price</th>\n",
       "      <th>Rating</th>\n",
       "      <th>city</th>\n",
       "      <th>Kilometers</th>\n",
       "      <th>Year_of_Purchase</th>\n",
       "      <th>Owner</th>\n",
       "      <th>Fuel_Type</th>\n",
       "      <th>Transmission</th>\n",
       "      <th>RTO</th>\n",
       "      <th>Insurance</th>\n",
       "      <th>Insurance_Type</th>\n",
       "      <th>Month_of_Purchase</th>\n",
       "    </tr>\n",
       "  </thead>\n",
       "  <tbody>\n",
       "    <tr>\n",
       "      <th>0</th>\n",
       "      <td>0</td>\n",
       "      <td>Maruti Alto LXI</td>\n",
       "      <td>174699</td>\n",
       "      <td>4.00</td>\n",
       "      <td>hyderabad</td>\n",
       "      <td>34854</td>\n",
       "      <td>2010</td>\n",
       "      <td>First</td>\n",
       "      <td>Petrol</td>\n",
       "      <td>MANUAL</td>\n",
       "      <td>RTOAP09</td>\n",
       "      <td>NaN</td>\n",
       "      <td>Expired</td>\n",
       "      <td>May</td>\n",
       "    </tr>\n",
       "  </tbody>\n",
       "</table>\n",
       "</div>"
      ],
      "text/plain": [
       "   Unnamed: 0              Name   Price  Rating       city  Kilometers  \\\n",
       "0           0   Maruti Alto LXI  174699    4.00  hyderabad       34854   \n",
       "\n",
       "   Year_of_Purchase   Owner Fuel_Type Transmission      RTO Insurance  \\\n",
       "0              2010  First     Petrol       MANUAL  RTOAP09       NaN   \n",
       "\n",
       "  Insurance_Type Month_of_Purchase  \n",
       "0        Expired               May  "
      ]
     },
     "execution_count": 4,
     "metadata": {},
     "output_type": "execute_result"
    }
   ],
   "source": [
    "df.head(1)"
   ]
  },
  {
   "cell_type": "code",
   "execution_count": 5,
   "metadata": {},
   "outputs": [
    {
     "name": "stdout",
     "output_type": "stream",
     "text": [
      "shape of data  (32158, 14)\n"
     ]
    }
   ],
   "source": [
    "print('shape of data ',df.shape) "
   ]
  },
  {
   "cell_type": "code",
   "execution_count": 6,
   "metadata": {},
   "outputs": [],
   "source": [
    "### Pre processing columns\n"
   ]
  },
  {
   "cell_type": "code",
   "execution_count": 7,
   "metadata": {},
   "outputs": [
    {
     "data": {
      "text/plain": [
       "2426"
      ]
     },
     "execution_count": 7,
     "metadata": {},
     "output_type": "execute_result"
    }
   ],
   "source": [
    "df['Name'].nunique()  # getting unquie cars models  before processing "
   ]
  },
  {
   "cell_type": "code",
   "execution_count": 8,
   "metadata": {},
   "outputs": [],
   "source": [
    "## Price column describe"
   ]
  },
  {
   "cell_type": "code",
   "execution_count": 9,
   "metadata": {},
   "outputs": [
    {
     "data": {
      "text/plain": [
       "count      32158.00\n",
       "mean      476093.75\n",
       "std       452149.25\n",
       "min            1.00\n",
       "25%       210000.00\n",
       "50%       368000.00\n",
       "75%       600000.00\n",
       "max     10801700.00\n",
       "Name: Price, dtype: float64"
      ]
     },
     "execution_count": 9,
     "metadata": {},
     "output_type": "execute_result"
    }
   ],
   "source": [
    "df['Price'].describe() "
   ]
  },
  {
   "cell_type": "code",
   "execution_count": 10,
   "metadata": {},
   "outputs": [
    {
     "data": {
      "text/html": [
       "<div>\n",
       "<style scoped>\n",
       "    .dataframe tbody tr th:only-of-type {\n",
       "        vertical-align: middle;\n",
       "    }\n",
       "\n",
       "    .dataframe tbody tr th {\n",
       "        vertical-align: top;\n",
       "    }\n",
       "\n",
       "    .dataframe thead th {\n",
       "        text-align: right;\n",
       "    }\n",
       "</style>\n",
       "<table border=\"1\" class=\"dataframe\">\n",
       "  <thead>\n",
       "    <tr style=\"text-align: right;\">\n",
       "      <th></th>\n",
       "      <th>Unnamed: 0</th>\n",
       "      <th>Name</th>\n",
       "      <th>Price</th>\n",
       "      <th>Rating</th>\n",
       "      <th>city</th>\n",
       "      <th>Kilometers</th>\n",
       "      <th>Year_of_Purchase</th>\n",
       "      <th>Owner</th>\n",
       "      <th>Fuel_Type</th>\n",
       "      <th>Transmission</th>\n",
       "      <th>RTO</th>\n",
       "      <th>Insurance</th>\n",
       "      <th>Insurance_Type</th>\n",
       "      <th>Month_of_Purchase</th>\n",
       "    </tr>\n",
       "  </thead>\n",
       "  <tbody>\n",
       "    <tr>\n",
       "      <th>18606</th>\n",
       "      <td>18606</td>\n",
       "      <td>Fiat Linea T JET PLUS</td>\n",
       "      <td>1</td>\n",
       "      <td>4.60</td>\n",
       "      <td>pune</td>\n",
       "      <td>31594</td>\n",
       "      <td>2014</td>\n",
       "      <td>Second</td>\n",
       "      <td>Petrol</td>\n",
       "      <td>NaN</td>\n",
       "      <td>RTOMH12</td>\n",
       "      <td>20/3/2021</td>\n",
       "      <td>Comprehensive</td>\n",
       "      <td>April</td>\n",
       "    </tr>\n",
       "  </tbody>\n",
       "</table>\n",
       "</div>"
      ],
      "text/plain": [
       "       Unnamed: 0                    Name  Price  Rating  city  Kilometers  \\\n",
       "18606       18606   Fiat Linea T JET PLUS      1    4.60  pune       31594   \n",
       "\n",
       "       Year_of_Purchase    Owner Fuel_Type Transmission      RTO  Insurance  \\\n",
       "18606              2014  Second     Petrol          NaN  RTOMH12  20/3/2021   \n",
       "\n",
       "      Insurance_Type Month_of_Purchase  \n",
       "18606  Comprehensive             April  "
      ]
     },
     "execution_count": 10,
     "metadata": {},
     "output_type": "execute_result"
    }
   ],
   "source": [
    "df[df['Price']==1]     # since minimum value of price cannot be 1 we are replacing 1 with some average"
   ]
  },
  {
   "cell_type": "code",
   "execution_count": 12,
   "metadata": {},
   "outputs": [
    {
     "data": {
      "text/html": [
       "<div>\n",
       "<style scoped>\n",
       "    .dataframe tbody tr th:only-of-type {\n",
       "        vertical-align: middle;\n",
       "    }\n",
       "\n",
       "    .dataframe tbody tr th {\n",
       "        vertical-align: top;\n",
       "    }\n",
       "\n",
       "    .dataframe thead th {\n",
       "        text-align: right;\n",
       "    }\n",
       "</style>\n",
       "<table border=\"1\" class=\"dataframe\">\n",
       "  <thead>\n",
       "    <tr style=\"text-align: right;\">\n",
       "      <th></th>\n",
       "      <th>Unnamed: 0</th>\n",
       "      <th>Name</th>\n",
       "      <th>Price</th>\n",
       "      <th>Rating</th>\n",
       "      <th>city</th>\n",
       "      <th>Kilometers</th>\n",
       "      <th>Year_of_Purchase</th>\n",
       "      <th>Owner</th>\n",
       "      <th>Fuel_Type</th>\n",
       "      <th>Transmission</th>\n",
       "      <th>RTO</th>\n",
       "      <th>Insurance</th>\n",
       "      <th>Insurance_Type</th>\n",
       "      <th>Month_of_Purchase</th>\n",
       "    </tr>\n",
       "  </thead>\n",
       "  <tbody>\n",
       "    <tr>\n",
       "      <th>9656</th>\n",
       "      <td>9656</td>\n",
       "      <td>Fiat Linea T JET PLUS</td>\n",
       "      <td>200000</td>\n",
       "      <td>3.90</td>\n",
       "      <td>bengalore</td>\n",
       "      <td>92310</td>\n",
       "      <td>2010</td>\n",
       "      <td>Third</td>\n",
       "      <td>Petrol + LPG</td>\n",
       "      <td>NaN</td>\n",
       "      <td>RTOKA03</td>\n",
       "      <td>17/10/2021</td>\n",
       "      <td>Comprehensive</td>\n",
       "      <td>October</td>\n",
       "    </tr>\n",
       "    <tr>\n",
       "      <th>16291</th>\n",
       "      <td>16291</td>\n",
       "      <td>Fiat Linea T JET PLUS</td>\n",
       "      <td>212000</td>\n",
       "      <td>4.30</td>\n",
       "      <td>pune</td>\n",
       "      <td>61555</td>\n",
       "      <td>2010</td>\n",
       "      <td>Second</td>\n",
       "      <td>Petrol</td>\n",
       "      <td>NaN</td>\n",
       "      <td>RTOMH12</td>\n",
       "      <td>NaN</td>\n",
       "      <td>Expired</td>\n",
       "      <td>October</td>\n",
       "    </tr>\n",
       "    <tr>\n",
       "      <th>18606</th>\n",
       "      <td>18606</td>\n",
       "      <td>Fiat Linea T JET PLUS</td>\n",
       "      <td>1</td>\n",
       "      <td>4.60</td>\n",
       "      <td>pune</td>\n",
       "      <td>31594</td>\n",
       "      <td>2014</td>\n",
       "      <td>Second</td>\n",
       "      <td>Petrol</td>\n",
       "      <td>NaN</td>\n",
       "      <td>RTOMH12</td>\n",
       "      <td>20/3/2021</td>\n",
       "      <td>Comprehensive</td>\n",
       "      <td>April</td>\n",
       "    </tr>\n",
       "  </tbody>\n",
       "</table>\n",
       "</div>"
      ],
      "text/plain": [
       "       Unnamed: 0                    Name   Price  Rating       city  \\\n",
       "9656         9656   Fiat Linea T JET PLUS  200000    3.90  bengalore   \n",
       "16291       16291   Fiat Linea T JET PLUS  212000    4.30       pune   \n",
       "18606       18606   Fiat Linea T JET PLUS       1    4.60       pune   \n",
       "\n",
       "       Kilometers  Year_of_Purchase    Owner     Fuel_Type Transmission  \\\n",
       "9656        92310              2010   Third   Petrol + LPG          NaN   \n",
       "16291       61555              2010  Second         Petrol          NaN   \n",
       "18606       31594              2014  Second         Petrol          NaN   \n",
       "\n",
       "           RTO   Insurance Insurance_Type Month_of_Purchase  \n",
       "9656   RTOKA03  17/10/2021  Comprehensive           October  \n",
       "16291  RTOMH12         NaN        Expired           October  \n",
       "18606  RTOMH12   20/3/2021  Comprehensive             April  "
      ]
     },
     "execution_count": 12,
     "metadata": {},
     "output_type": "execute_result"
    }
   ],
   "source": [
    "df[df['Name'].str.contains('Fiat Linea T JET PLUS')]"
   ]
  },
  {
   "cell_type": "code",
   "execution_count": 13,
   "metadata": {},
   "outputs": [],
   "source": [
    "df.loc[18606,'Price']=(200000+212000)/2 # replacing min value which 1 with their corresponding average"
   ]
  },
  {
   "cell_type": "code",
   "execution_count": 14,
   "metadata": {},
   "outputs": [],
   "source": [
    "df['city']=df['city'].replace('bengalore','bangalore') # spell check"
   ]
  },
  {
   "cell_type": "code",
   "execution_count": 15,
   "metadata": {},
   "outputs": [],
   "source": [
    "## Finding null values"
   ]
  },
  {
   "cell_type": "code",
   "execution_count": 16,
   "metadata": {},
   "outputs": [],
   "source": [
    "df['Insurance_Type'].fillna(df['Insurance_Type'].mode()[0], inplace=True)  # filling missing values using mode"
   ]
  },
  {
   "cell_type": "code",
   "execution_count": 17,
   "metadata": {},
   "outputs": [],
   "source": [
    "df['Transmission'].fillna(df['Transmission'].mode()[0], inplace=True)# filling missing values using mode"
   ]
  },
  {
   "cell_type": "code",
   "execution_count": 18,
   "metadata": {},
   "outputs": [],
   "source": [
    "df.drop('Insurance',axis=1,inplace=True)# dropping insurance column because it has mostly null values"
   ]
  },
  {
   "cell_type": "code",
   "execution_count": 19,
   "metadata": {},
   "outputs": [
    {
     "data": {
      "text/html": [
       "<div>\n",
       "<style scoped>\n",
       "    .dataframe tbody tr th:only-of-type {\n",
       "        vertical-align: middle;\n",
       "    }\n",
       "\n",
       "    .dataframe tbody tr th {\n",
       "        vertical-align: top;\n",
       "    }\n",
       "\n",
       "    .dataframe thead th {\n",
       "        text-align: right;\n",
       "    }\n",
       "</style>\n",
       "<table border=\"1\" class=\"dataframe\">\n",
       "  <thead>\n",
       "    <tr style=\"text-align: right;\">\n",
       "      <th></th>\n",
       "      <th>Unnamed: 0</th>\n",
       "      <th>Name</th>\n",
       "      <th>Price</th>\n",
       "      <th>Rating</th>\n",
       "      <th>city</th>\n",
       "      <th>Kilometers</th>\n",
       "      <th>Year_of_Purchase</th>\n",
       "      <th>Owner</th>\n",
       "      <th>Fuel_Type</th>\n",
       "      <th>Transmission</th>\n",
       "      <th>RTO</th>\n",
       "      <th>Insurance_Type</th>\n",
       "      <th>Month_of_Purchase</th>\n",
       "    </tr>\n",
       "  </thead>\n",
       "  <tbody>\n",
       "    <tr>\n",
       "      <th>0</th>\n",
       "      <td>0</td>\n",
       "      <td>Maruti Alto LXI</td>\n",
       "      <td>174699</td>\n",
       "      <td>4.00</td>\n",
       "      <td>hyderabad</td>\n",
       "      <td>34854</td>\n",
       "      <td>2010</td>\n",
       "      <td>First</td>\n",
       "      <td>Petrol</td>\n",
       "      <td>MANUAL</td>\n",
       "      <td>RTOAP09</td>\n",
       "      <td>Expired</td>\n",
       "      <td>May</td>\n",
       "    </tr>\n",
       "    <tr>\n",
       "      <th>1</th>\n",
       "      <td>1</td>\n",
       "      <td>Maruti Wagon R . VXI</td>\n",
       "      <td>333999</td>\n",
       "      <td>4.20</td>\n",
       "      <td>hyderabad</td>\n",
       "      <td>39541</td>\n",
       "      <td>2013</td>\n",
       "      <td>Second</td>\n",
       "      <td>Petrol</td>\n",
       "      <td>MANUAL</td>\n",
       "      <td>RTOAP28</td>\n",
       "      <td>Comprehensive</td>\n",
       "      <td>July</td>\n",
       "    </tr>\n",
       "    <tr>\n",
       "      <th>2</th>\n",
       "      <td>2</td>\n",
       "      <td>Maruti Wagon R . VXI</td>\n",
       "      <td>353199</td>\n",
       "      <td>4.30</td>\n",
       "      <td>hyderabad</td>\n",
       "      <td>23233</td>\n",
       "      <td>2014</td>\n",
       "      <td>Second</td>\n",
       "      <td>Petrol</td>\n",
       "      <td>MANUAL</td>\n",
       "      <td>RTOAP28</td>\n",
       "      <td>Comprehensive</td>\n",
       "      <td>March</td>\n",
       "    </tr>\n",
       "    <tr>\n",
       "      <th>3</th>\n",
       "      <td>3</td>\n",
       "      <td>Hyundai Eon D LITE PLUS</td>\n",
       "      <td>237899</td>\n",
       "      <td>4.40</td>\n",
       "      <td>hyderabad</td>\n",
       "      <td>27748</td>\n",
       "      <td>2013</td>\n",
       "      <td>First</td>\n",
       "      <td>Petrol</td>\n",
       "      <td>MANUAL</td>\n",
       "      <td>RTOAP13</td>\n",
       "      <td>Comprehensive</td>\n",
       "      <td>November</td>\n",
       "    </tr>\n",
       "    <tr>\n",
       "      <th>4</th>\n",
       "      <td>4</td>\n",
       "      <td>Hyundai Eon ERA PLUS</td>\n",
       "      <td>300699</td>\n",
       "      <td>4.40</td>\n",
       "      <td>hyderabad</td>\n",
       "      <td>12238</td>\n",
       "      <td>2017</td>\n",
       "      <td>Second</td>\n",
       "      <td>Petrol</td>\n",
       "      <td>MANUAL</td>\n",
       "      <td>RTOTS10</td>\n",
       "      <td>Expired</td>\n",
       "      <td>August</td>\n",
       "    </tr>\n",
       "  </tbody>\n",
       "</table>\n",
       "</div>"
      ],
      "text/plain": [
       "   Unnamed: 0                      Name   Price  Rating       city  \\\n",
       "0           0           Maruti Alto LXI  174699    4.00  hyderabad   \n",
       "1           1      Maruti Wagon R . VXI  333999    4.20  hyderabad   \n",
       "2           2      Maruti Wagon R . VXI  353199    4.30  hyderabad   \n",
       "3           3   Hyundai Eon D LITE PLUS  237899    4.40  hyderabad   \n",
       "4           4      Hyundai Eon ERA PLUS  300699    4.40  hyderabad   \n",
       "\n",
       "   Kilometers  Year_of_Purchase    Owner Fuel_Type Transmission      RTO  \\\n",
       "0       34854              2010   First     Petrol       MANUAL  RTOAP09   \n",
       "1       39541              2013  Second     Petrol       MANUAL  RTOAP28   \n",
       "2       23233              2014  Second     Petrol       MANUAL  RTOAP28   \n",
       "3       27748              2013   First     Petrol       MANUAL  RTOAP13   \n",
       "4       12238              2017  Second     Petrol       MANUAL  RTOTS10   \n",
       "\n",
       "  Insurance_Type Month_of_Purchase  \n",
       "0        Expired               May  \n",
       "1  Comprehensive              July  \n",
       "2  Comprehensive             March  \n",
       "3  Comprehensive          November  \n",
       "4        Expired            August  "
      ]
     },
     "execution_count": 19,
     "metadata": {},
     "output_type": "execute_result"
    }
   ],
   "source": [
    "df.head()"
   ]
  },
  {
   "cell_type": "code",
   "execution_count": 20,
   "metadata": {},
   "outputs": [
    {
     "name": "stdout",
     "output_type": "stream",
     "text": [
      "checking nan values if any: 0\n"
     ]
    }
   ],
   "source": [
    "print('checking nan values if any:',df.isnull().values.sum())"
   ]
  },
  {
   "cell_type": "code",
   "execution_count": 21,
   "metadata": {},
   "outputs": [
    {
     "data": {
      "text/html": [
       "<div>\n",
       "<style scoped>\n",
       "    .dataframe tbody tr th:only-of-type {\n",
       "        vertical-align: middle;\n",
       "    }\n",
       "\n",
       "    .dataframe tbody tr th {\n",
       "        vertical-align: top;\n",
       "    }\n",
       "\n",
       "    .dataframe thead th {\n",
       "        text-align: right;\n",
       "    }\n",
       "</style>\n",
       "<table border=\"1\" class=\"dataframe\">\n",
       "  <thead>\n",
       "    <tr style=\"text-align: right;\">\n",
       "      <th></th>\n",
       "      <th>Unnamed: 0</th>\n",
       "      <th>Name</th>\n",
       "      <th>Rating</th>\n",
       "      <th>city</th>\n",
       "      <th>Kilometers</th>\n",
       "      <th>Year_of_Purchase</th>\n",
       "      <th>Owner</th>\n",
       "      <th>Fuel_Type</th>\n",
       "      <th>Transmission</th>\n",
       "      <th>RTO</th>\n",
       "      <th>Insurance_Type</th>\n",
       "      <th>Month_of_Purchase</th>\n",
       "    </tr>\n",
       "  </thead>\n",
       "  <tbody>\n",
       "    <tr>\n",
       "      <th>0</th>\n",
       "      <td>0</td>\n",
       "      <td>Maruti Alto LXI</td>\n",
       "      <td>4.00</td>\n",
       "      <td>hyderabad</td>\n",
       "      <td>34854</td>\n",
       "      <td>2010</td>\n",
       "      <td>First</td>\n",
       "      <td>Petrol</td>\n",
       "      <td>MANUAL</td>\n",
       "      <td>RTOAP09</td>\n",
       "      <td>Expired</td>\n",
       "      <td>May</td>\n",
       "    </tr>\n",
       "    <tr>\n",
       "      <th>1</th>\n",
       "      <td>1</td>\n",
       "      <td>Maruti Wagon R . VXI</td>\n",
       "      <td>4.20</td>\n",
       "      <td>hyderabad</td>\n",
       "      <td>39541</td>\n",
       "      <td>2013</td>\n",
       "      <td>Second</td>\n",
       "      <td>Petrol</td>\n",
       "      <td>MANUAL</td>\n",
       "      <td>RTOAP28</td>\n",
       "      <td>Comprehensive</td>\n",
       "      <td>July</td>\n",
       "    </tr>\n",
       "    <tr>\n",
       "      <th>2</th>\n",
       "      <td>2</td>\n",
       "      <td>Maruti Wagon R . VXI</td>\n",
       "      <td>4.30</td>\n",
       "      <td>hyderabad</td>\n",
       "      <td>23233</td>\n",
       "      <td>2014</td>\n",
       "      <td>Second</td>\n",
       "      <td>Petrol</td>\n",
       "      <td>MANUAL</td>\n",
       "      <td>RTOAP28</td>\n",
       "      <td>Comprehensive</td>\n",
       "      <td>March</td>\n",
       "    </tr>\n",
       "    <tr>\n",
       "      <th>3</th>\n",
       "      <td>3</td>\n",
       "      <td>Hyundai Eon D LITE PLUS</td>\n",
       "      <td>4.40</td>\n",
       "      <td>hyderabad</td>\n",
       "      <td>27748</td>\n",
       "      <td>2013</td>\n",
       "      <td>First</td>\n",
       "      <td>Petrol</td>\n",
       "      <td>MANUAL</td>\n",
       "      <td>RTOAP13</td>\n",
       "      <td>Comprehensive</td>\n",
       "      <td>November</td>\n",
       "    </tr>\n",
       "    <tr>\n",
       "      <th>4</th>\n",
       "      <td>4</td>\n",
       "      <td>Hyundai Eon ERA PLUS</td>\n",
       "      <td>4.40</td>\n",
       "      <td>hyderabad</td>\n",
       "      <td>12238</td>\n",
       "      <td>2017</td>\n",
       "      <td>Second</td>\n",
       "      <td>Petrol</td>\n",
       "      <td>MANUAL</td>\n",
       "      <td>RTOTS10</td>\n",
       "      <td>Expired</td>\n",
       "      <td>August</td>\n",
       "    </tr>\n",
       "  </tbody>\n",
       "</table>\n",
       "</div>"
      ],
      "text/plain": [
       "   Unnamed: 0                      Name  Rating       city  Kilometers  \\\n",
       "0           0           Maruti Alto LXI    4.00  hyderabad       34854   \n",
       "1           1      Maruti Wagon R . VXI    4.20  hyderabad       39541   \n",
       "2           2      Maruti Wagon R . VXI    4.30  hyderabad       23233   \n",
       "3           3   Hyundai Eon D LITE PLUS    4.40  hyderabad       27748   \n",
       "4           4      Hyundai Eon ERA PLUS    4.40  hyderabad       12238   \n",
       "\n",
       "   Year_of_Purchase    Owner Fuel_Type Transmission      RTO Insurance_Type  \\\n",
       "0              2010   First     Petrol       MANUAL  RTOAP09        Expired   \n",
       "1              2013  Second     Petrol       MANUAL  RTOAP28  Comprehensive   \n",
       "2              2014  Second     Petrol       MANUAL  RTOAP28  Comprehensive   \n",
       "3              2013   First     Petrol       MANUAL  RTOAP13  Comprehensive   \n",
       "4              2017  Second     Petrol       MANUAL  RTOTS10        Expired   \n",
       "\n",
       "  Month_of_Purchase  \n",
       "0               May  \n",
       "1              July  \n",
       "2             March  \n",
       "3          November  \n",
       "4            August  "
      ]
     },
     "execution_count": 21,
     "metadata": {},
     "output_type": "execute_result"
    }
   ],
   "source": [
    "y_train_df=df['Price']# separating target variable from main dataframe\n",
    "df.drop('Price',axis=1,inplace=True) # dropping target variable from main data frame\n",
    "df.head()"
   ]
  },
  {
   "cell_type": "code",
   "execution_count": 22,
   "metadata": {},
   "outputs": [],
   "source": [
    "df1=pd.DataFrame(df) # creating duplicate dataframe"
   ]
  },
  {
   "cell_type": "code",
   "execution_count": 23,
   "metadata": {},
   "outputs": [],
   "source": [
    "df=pd.get_dummies(df,columns=['Name','city','Year_of_Purchase','Owner','Fuel_Type','Transmission','RTO','Insurance_Type','Month_of_Purchase'])\n"
   ]
  },
  {
   "cell_type": "code",
   "execution_count": 24,
   "metadata": {},
   "outputs": [
    {
     "name": "stdout",
     "output_type": "stream",
     "text": [
      "Shape of Xtrain  (22510, 3290)\n",
      "Shape of Xtest  (9648, 3290)\n",
      "Shape of ytrain  (22510,)\n",
      "Shape of ytest  (9648,)\n"
     ]
    }
   ],
   "source": [
    "X_train, X_test, y_train, y_test = train_test_split(df, y_train_df, test_size = 0.3,random_state=22)\n",
    "\n",
    "\n",
    "print('Shape of Xtrain ',X_train.shape)\n",
    "print('Shape of Xtest ',X_test.shape)\n",
    "print('Shape of ytrain ',y_train.shape)\n",
    "print('Shape of ytest ',y_test.shape)"
   ]
  },
  {
   "cell_type": "code",
   "execution_count": null,
   "metadata": {},
   "outputs": [],
   "source": [
    "## Modelling ( code reference - Kaggle)"
   ]
  },
  {
   "cell_type": "code",
   "execution_count": 25,
   "metadata": {},
   "outputs": [],
   "source": [
    "def plot_loss_distribu(y_actual,y_pred):\n",
    "    \"\"\"Utility funtion which prints metrics and plots distribution of loss value\"\"\"\n",
    "    \n",
    "    df=pd.DataFrame({'act':y_actual,'pred':y_pred})\n",
    "    loss = df['act'] - df[\"pred\"] # loss \n",
    "\n",
    "    plt.show()\n",
    "   \n",
    "    plt.figure(figsize=(15,5))\n",
    "    plt.title('CDF graph of residuals' ) # plotting cdf of loss\n",
    "    plt.xlabel('Loss')\n",
    "    sns.ecdfplot( x=loss )\n",
    "    \n",
    "    \n",
    "    \n",
    "    plt.figure(figsize=(15,5))\n",
    "    plt.title('PDF graph of residuals' )  # plotting pdf of loss\n",
    "    plt.xlabel('Loss')\n",
    "    plt.hist(loss, bins = int(1800),\n",
    "             color = 'blue', edgecolor = 'blue')\n",
    "    plt.show()\n",
    "    \n",
    "    print('_'*50)\n",
    "    print('r2 score :',r2_score(y_actual,y_pred))\n",
    "    print('mse :',mean_squared_error(y_actual,y_pred))\n",
    "   \n",
    "    \n",
    "   "
   ]
  },
  {
   "cell_type": "code",
   "execution_count": 26,
   "metadata": {},
   "outputs": [],
   "source": [
    "## Linear Regression "
   ]
  },
  {
   "cell_type": "code",
   "execution_count": 27,
   "metadata": {},
   "outputs": [
    {
     "data": {
      "text/plain": [
       "LinearRegression()"
      ]
     },
     "execution_count": 27,
     "metadata": {},
     "output_type": "execute_result"
    }
   ],
   "source": [
    "from sklearn.linear_model import LinearRegression\n",
    "\n",
    "\n",
    "\n",
    "model = LinearRegression()\n",
    "model.fit(X_train, y_train)"
   ]
  },
  {
   "cell_type": "code",
   "execution_count": 29,
   "metadata": {},
   "outputs": [
    {
     "name": "stdout",
     "output_type": "stream",
     "text": [
      "---------=======================------------For train data----------======================--------------\n"
     ]
    },
    {
     "data": {
      "image/png": "[encoded data removed]",
      "text/plain": [
       "<Figure size 1080x360 with 1 Axes>"
      ]
     },
     "metadata": {
      "needs_background": "light"
     },
     "output_type": "display_data"
    },
    {
     "data": {
      "image/png": "[encoded data removed]",
      "text/plain": [
       "<Figure size 1080x360 with 1 Axes>"
      ]
     },
     "metadata": {
      "needs_background": "light"
     },
     "output_type": "display_data"
    },
    {
     "name": "stdout",
     "output_type": "stream",
     "text": [
      "__________________________________________________\n",
      "r2 score : 0.9376039715564948\n",
      "mse : 12745336516.931938\n",
      "---------=======================------------For test data-----------=======================-------------\n"
     ]
    },
    {
     "data": {
      "image/png": "[encoded data removed]",
      "text/plain": [
       "<Figure size 1080x360 with 1 Axes>"
      ]
     },
     "metadata": {
      "needs_background": "light"
     },
     "output_type": "display_data"
    },
    {
     "data": {
      "image/png": "[encoded data removed]",
      "text/plain": [
       "<Figure size 1080x360 with 1 Axes>"
      ]
     },
     "metadata": {
      "needs_background": "light"
     },
     "output_type": "display_data"
    },
    {
     "name": "stdout",
     "output_type": "stream",
     "text": [
      "__________________________________________________\n",
      "r2 score : -1052915536.462818\n",
      "mse : 2.1564439860627528e+20\n"
     ]
    }
   ],
   "source": [
    "\n",
    "y_pred_train=model.predict(X_train)\n",
    "\n",
    "y_pred = model.predict(X_test)\n",
    "\n",
    "print('---------=======================------------For train data----------======================--------------')\n",
    "plot_loss_distribu(y_train,y_pred_train)\n",
    "print('---------=======================------------For test data-----------=======================-------------')\n",
    "plot_loss_distribu(y_test,y_pred)\n",
    "\n"
   ]
  },
  {
   "cell_type": "code",
   "execution_count": 31,
   "metadata": {},
   "outputs": [],
   "source": [
    "## Decision Tree Regressor "
   ]
  },
  {
   "cell_type": "code",
   "execution_count": 32,
   "metadata": {},
   "outputs": [
    {
     "name": "stdout",
     "output_type": "stream",
     "text": [
      "Fitting 5 folds for each of 162 candidates, totalling 810 fits\n"
     ]
    },
    {
     "name": "stderr",
     "output_type": "stream",
     "text": [
      "[Parallel(n_jobs=-1)]: Using backend LokyBackend with 4 concurrent workers.\n",
      "[Parallel(n_jobs=-1)]: Done  33 tasks      | elapsed:   32.8s\n",
      "[Parallel(n_jobs=-1)]: Done 154 tasks      | elapsed:  2.1min\n",
      "[Parallel(n_jobs=-1)]: Done 357 tasks      | elapsed:  6.9min\n",
      "[Parallel(n_jobs=-1)]: Done 640 tasks      | elapsed: 178.5min\n",
      "[Parallel(n_jobs=-1)]: Done 810 out of 810 | elapsed: 299.1min finished\n"
     ]
    },
    {
     "data": {
      "text/plain": [
       "GridSearchCV(estimator=DecisionTreeRegressor(), n_jobs=-1,\n",
       "             param_grid={'criterion': ['mse', 'mae'], 'max_depth': [2, 6, 8],\n",
       "                         'max_leaf_nodes': [5, 20, 100],\n",
       "                         'min_samples_leaf': [20, 40, 100],\n",
       "                         'min_samples_split': [10, 20, 40]},\n",
       "             verbose=2)"
      ]
     },
     "execution_count": 32,
     "metadata": {},
     "output_type": "execute_result"
    }
   ],
   "source": [
    "dtm = DecisionTreeRegressor()\n",
    "\n",
    "param_grid = {\"criterion\": [\"mse\", \"mae\"],\n",
    "              \"min_samples_split\": [10, 20, 40],\n",
    "              \"max_depth\": [2, 6, 8],\n",
    "              \"min_samples_leaf\": [20, 40, 100],\n",
    "              \"max_leaf_nodes\": [5, 20, 100],\n",
    "              }\n",
    "\n",
    "\n",
    "grid_cv_dtm = GridSearchCV(dtm, param_grid, \n",
    "                           verbose=2,n_jobs=-1)\n",
    "\n",
    "grid_cv_dtm.fit(X_train,y_train)"
   ]
  },
  {
   "cell_type": "code",
   "execution_count": 33,
   "metadata": {},
   "outputs": [
    {
     "name": "stdout",
     "output_type": "stream",
     "text": [
      "Best parameters obtained after tuning: {'criterion': 'mse', 'max_depth': 8, 'max_leaf_nodes': 100, 'min_samples_leaf': 100, 'min_samples_split': 10}\n"
     ]
    }
   ],
   "source": [
    "print('Best parameters obtained after tuning:',grid_cv_dtm.best_params_)"
   ]
  },
  {
   "cell_type": "code",
   "execution_count": 34,
   "metadata": {},
   "outputs": [
    {
     "data": {
      "text/plain": [
       "DecisionTreeRegressor(max_depth=8, max_leaf_nodes=100, min_samples_leaf=40,\n",
       "                      min_samples_split=10)"
      ]
     },
     "execution_count": 34,
     "metadata": {},
     "output_type": "execute_result"
    }
   ],
   "source": [
    "dt=DecisionTreeRegressor(criterion='mse', max_depth= 8, max_leaf_nodes= 100, min_samples_leaf= 40, min_samples_split= 10)\n",
    "dt.fit(X_train,y_train)"
   ]
  },
  {
   "cell_type": "code",
   "execution_count": 39,
   "metadata": {},
   "outputs": [
    {
     "name": "stdout",
     "output_type": "stream",
     "text": [
      "---------=======================------------For train data----------======================--------------\n"
     ]
    },
    {
     "data": {
      "image/png": "[encoded data removed]",
      "text/plain": [
       "<Figure size 1080x360 with 1 Axes>"
      ]
     },
     "metadata": {
      "needs_background": "light"
     },
     "output_type": "display_data"
    },
    {
     "data": {
      "image/png": "[encoded data removed]",
      "text/plain": [
       "<Figure size 1080x360 with 1 Axes>"
      ]
     },
     "metadata": {
      "needs_background": "light"
     },
     "output_type": "display_data"
    },
    {
     "name": "stdout",
     "output_type": "stream",
     "text": [
      "__________________________________________________\n",
      "r2 score : 0.49418431523347817\n",
      "mse : 103320536237.7952\n",
      "---------=======================------------For test data-----------=======================-------------\n"
     ]
    },
    {
     "data": {
      "image/png": "[encoded data removed]",
      "text/plain": [
       "<Figure size 1080x360 with 1 Axes>"
      ]
     },
     "metadata": {
      "needs_background": "light"
     },
     "output_type": "display_data"
    },
    {
     "data": {
      "image/png": "[encoded data removed]",
      "text/plain": [
       "<Figure size 1080x360 with 1 Axes>"
      ]
     },
     "metadata": {
      "needs_background": "light"
     },
     "output_type": "display_data"
    },
    {
     "name": "stdout",
     "output_type": "stream",
     "text": [
      "__________________________________________________\n",
      "r2 score : 0.4534696223186919\n",
      "mse : 111933208716.00119\n"
     ]
    }
   ],
   "source": [
    "\n",
    "y_pred_train=dt.predict(X_train)\n",
    "\n",
    "y_pred = dt.predict(X_test)\n",
    "\n",
    "print('---------=======================------------For train data----------======================--------------')\n",
    "plot_loss_distribu(y_train,y_pred_train)\n",
    "print('---------=======================------------For test data-----------=======================-------------')\n",
    "plot_loss_distribu(y_test,y_pred)\n",
    "\n",
    "\n"
   ]
  },
  {
   "cell_type": "code",
   "execution_count": null,
   "metadata": {},
   "outputs": [],
   "source": []
  }
 ],
 "metadata": {
  "kernelspec": {
   "display_name": "Python 3",
   "language": "python",
   "name": "python3"
  },
  "language_info": {
   "codemirror_mode": {
    "name": "ipython",
    "version": 3
   },
   "file_extension": ".py",
   "mimetype": "text/x-python",
   "name": "python",
   "nbconvert_exporter": "python",
   "pygments_lexer": "ipython3",
   "version": "3.8.5"
  }
 },
 "nbformat": 4,
 "nbformat_minor": 4
}
